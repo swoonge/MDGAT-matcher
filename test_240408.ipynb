{
 "cells": [
  {
   "cell_type": "code",
   "execution_count": 1,
   "metadata": {},
   "outputs": [
    {
     "name": "stdout",
     "output_type": "stream",
     "text": [
      "Jupyter environment detected. Enabling Open3D WebVisualizer.\n",
      "[Open3D INFO] WebRTC GUI backend enabled.\n",
      "[Open3D INFO] WebRTCWindowSystem: HTTP handshake server disabled.\n"
     ]
    }
   ],
   "source": [
    "import os\n",
    "import sys\n",
    "import open3d as o3d\n",
    "import numpy as np\n",
    "import matplotlib.pyplot as plt\n",
    "import matplotlib.cm as cm\n",
    "import open3d.visualization as vis"
   ]
  },
  {
   "cell_type": "code",
   "execution_count": 2,
   "metadata": {},
   "outputs": [
    {
     "name": "stdout",
     "output_type": "stream",
     "text": [
      "Loaded (4541, 256, 37) point clouds\n"
     ]
    }
   ],
   "source": [
    "keypoints_path = \"./KITTI/keypoints/tsf_256_FPFH_16384-512-k1k16-2d-nonoise\"\n",
    "sequence = \"00\"\n",
    "bin_num = \"000000\"\n",
    "\n",
    "pcs = []\n",
    "folder = os.path.join(keypoints_path, sequence)\n",
    "folder = os.listdir(folder)   \n",
    "folder.sort(key=lambda x:int(x[:-4]))\n",
    "for idx in range(len(folder)):\n",
    "    file = os.path.join(keypoints_path, sequence, folder[idx])\n",
    "    # print(\"Loading\", file)\n",
    "    if os.path.isfile(file):\n",
    "        pc = np.fromfile(file, dtype=np.float32).reshape((-1, 37))\n",
    "        pcs.append(pc)\n",
    "        # print(\"Loaded\", pc.shape, \"keypoints\")\n",
    "    else:\n",
    "        pcs.append([0])\n",
    "pcs = np.array(pcs)\n",
    "print(\"Loaded\", pcs.shape, \"point clouds\")"
   ]
  },
  {
   "cell_type": "code",
   "execution_count": 3,
   "metadata": {},
   "outputs": [
    {
     "name": "stdout",
     "output_type": "stream",
     "text": [
      "kp_coords - Mean: 0.5961099 Min: -79.930115 Max: 79.729034\n",
      "scores - Mean: 0.27414268 Min: 0.03911762 Max: 0.8457249\n",
      "descriptors - Mean: 9.090902 Min: 0.0 Max: 100.00006\n"
     ]
    }
   ],
   "source": [
    "# for pc in pcs:\n",
    "kp_coords = np.array(pcs[:, :,:3])\n",
    "kp_scores = pcs[:,:,3]\n",
    "kp_descriptors = pcs[:,:,4:]\n",
    "    # print(kp_coords.shape, kp_scores.shape, kp_descriptors.shape)\n",
    "# Calculate the mean, minimum, and maximum values for kp_coords\n",
    "kp_coords_mean = np.mean(kp_coords)\n",
    "kp_coords_min = np.min(kp_coords)\n",
    "kp_coords_max = np.max(kp_coords)\n",
    "\n",
    "# Calculate the mean, minimum, and maximum values for scores\n",
    "scores_mean = np.mean(kp_scores)\n",
    "scores_min = np.min(kp_scores)\n",
    "scores_max = np.max(kp_scores)\n",
    "\n",
    "# Calculate the mean, minimum, and maximum values for descriptors\n",
    "descriptors_mean = np.mean(kp_descriptors)\n",
    "descriptors_min = np.min(kp_descriptors)\n",
    "descriptors_max = np.max(kp_descriptors)\n",
    "\n",
    "# Print the results\n",
    "print(\"kp_coords - Mean:\", kp_coords_mean, \"Min:\", kp_coords_min, \"Max:\", kp_coords_max)\n",
    "print(\"scores - Mean:\", scores_mean, \"Min:\", scores_min, \"Max:\", scores_max)\n",
    "print(\"descriptors - Mean:\", descriptors_mean, \"Min:\", descriptors_min, \"Max:\", descriptors_max)\n"
   ]
  },
  {
   "cell_type": "code",
   "execution_count": 4,
   "metadata": {},
   "outputs": [],
   "source": [
    "pc_file = os.path.join('/media/vision/Seagate/DataSets/kitti/dataset/sequences', sequence, \"velodyne\" ,'000000.bin')\n",
    "pc = np.fromfile(pc_file, dtype=np.float32)\n",
    "pc = pc.reshape((-1, 4))\n",
    "pc_coords = pc[:, :3]\n",
    "pc_colors = pc[:, 3]\n",
    "# pc = pc[np.random.choice(pc.shape[0], 16384, replace=False), :]\n",
    "\n",
    "pcd = o3d.geometry.PointCloud()\n",
    "pcd.points = o3d.utility.Vector3dVector(pc[:, :3])\n",
    "\n",
    "pcd.estimate_normals(search_param=o3d.geometry.KDTreeSearchParamHybrid(radius=0.1, max_nn=30))\n",
    "pcd_fpfh = o3d.pipelines.registration.compute_fpfh_feature(pcd, o3d.geometry.KDTreeSearchParamHybrid(radius=0.25, max_nn=100))\n",
    "pc_descriptors = np.transpose(pcd_fpfh.data)#[-256:]"
   ]
  },
  {
   "cell_type": "code",
   "execution_count": 5,
   "metadata": {},
   "outputs": [
    {
     "name": "stdout",
     "output_type": "stream",
     "text": [
      "51291\n",
      "target keypoint's coord:  [31.036074   13.310688    0.18449429]\n",
      "min distance:  62.54184065245435\n",
      "top 5 candidates coord:  [[ 0.86937934 -9.577588    0.07708635]\n",
      " [ 0.8387991  -9.567581    0.07708955]\n",
      " [-6.1696143  -8.652582    0.46096808]\n",
      " [ 0.81022465 -9.5815735   0.07709592]\n",
      " [ 0.79443926 -9.57457     0.07709728]]\n"
     ]
    }
   ],
   "source": [
    "# seq 0, 00 pose에서 전체 pc에 대한 descriptor와 주어진 kp_descriptors의 거리를 계산\n",
    "l2_norms = np.linalg.norm(pc_descriptors - kp_descriptors[0][100], axis=1)\n",
    "count = np.count_nonzero(l2_norms < 158.72552491687108)\n",
    "print(count)\n",
    "\n",
    "print(\"target keypoint's coord: \", kp_coords[0][100])\n",
    "print(\"min distance: \", np.min(l2_norms))\n",
    "top_5_indices = np.argsort(l2_norms)[:5]\n",
    "top_5_candidates = pc[top_5_indices,:3]\n",
    "print(\"top 5 candidates coord: \", top_5_candidates)\n"
   ]
  },
  {
   "cell_type": "code",
   "execution_count": 6,
   "metadata": {},
   "outputs": [
    {
     "name": "stdout",
     "output_type": "stream",
     "text": [
      "Closest point's coordinates: [31.148245   13.401265    0.15085755]\n",
      "Closest point's descriptors: [0. 0. 0. 0. 0.]\n",
      "target keypoint's coord:  [31.036074   13.310688    0.18449429]\n",
      "target keypoint's descriptors:  [0.         0.         0.         0.44523013 4.9243283 ]\n",
      "Distance between the two descriptors: 255.06231592112175\n"
     ]
    }
   ],
   "source": [
    "import open3d as o3d\n",
    "import numpy as np\n",
    "# 키포인트에서 가장 가까운 점의 디스크립터와 비교\n",
    "\n",
    "# Compute distances between target_point and pcd_points\n",
    "distances = np.linalg.norm(pc_coords - kp_coords[0][100], axis=1)\n",
    "\n",
    "# Find the index of the closest point\n",
    "closest_index = np.argmin(distances)\n",
    "\n",
    "print(\"Closest point's coordinates:\", pc_coords[closest_index])\n",
    "print(\"Closest point's descriptors:\", pc_descriptors[closest_index][:5])\n",
    "print(\"target keypoint's coord: \", kp_coords[0][100])\n",
    "print(\"target keypoint's descriptors: \", kp_descriptors[0][100][:5])\n",
    "print(\"Distance between the two descriptors:\", np.linalg.norm(pc_descriptors[closest_index] - kp_descriptors[0][100]))\n",
    "\n"
   ]
  }
 ],
 "metadata": {
  "kernelspec": {
   "display_name": "mdgat",
   "language": "python",
   "name": "python3"
  },
  "language_info": {
   "codemirror_mode": {
    "name": "ipython",
    "version": 3
   },
   "file_extension": ".py",
   "mimetype": "text/x-python",
   "name": "python",
   "nbconvert_exporter": "python",
   "pygments_lexer": "ipython3",
   "version": "3.10.13"
  }
 },
 "nbformat": 4,
 "nbformat_minor": 2
}
